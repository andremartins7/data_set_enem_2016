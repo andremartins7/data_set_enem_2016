{
  "nbformat": 4,
  "nbformat_minor": 0,
  "metadata": {
    "colab": {
      "name": "Untitled2.ipynb",
      "provenance": [],
      "collapsed_sections": [],
      "authorship_tag": "ABX9TyPaKdBUEV8z60pC9OKj9Nls",
      "include_colab_link": true
    },
    "kernelspec": {
      "name": "python3",
      "display_name": "Python 3"
    }
  },
  "cells": [
    {
      "cell_type": "markdown",
      "metadata": {
        "id": "view-in-github",
        "colab_type": "text"
      },
      "source": [
        "<a href=\"https://colab.research.google.com/github/andremartins7/data_set_enem_2016/blob/master/Enem_2016.ipynb\" target=\"_parent\"><img src=\"https://colab.research.google.com/assets/colab-badge.svg\" alt=\"Open In Colab\"/></a>"
      ]
    },
    {
      "cell_type": "code",
      "metadata": {
        "id": "dzYApGyifuwI",
        "colab_type": "code",
        "colab": {}
      },
      "source": [
        "# Importar as bibliotecas a serem usadas\n",
        "import pandas as pd\n",
        "import numpy as np\n",
        "from sklearn import preprocessing\n",
        "from sklearn.ensemble import RandomForestRegressor\n",
        "from sklearn.pipeline import make_pipeline\n",
        "from sklearn.model_selection import GridSearchCV\n",
        "from sklearn.externals import joblib\n",
        "import matplotlib.pyplot as plt\n",
        "import seaborn as sns"
      ],
      "execution_count": 0,
      "outputs": []
    },
    {
      "cell_type": "code",
      "metadata": {
        "id": "7XNydE6Mgu7Y",
        "colab_type": "code",
        "colab": {}
      },
      "source": [
        "# Leitura dos datasets de treino e teste e criação do df de resposta\n",
        "df_train = pd.read_csv('https://raw.githubusercontent.com/andremartins7/data_set_enem_2016/master/train.csv')\n",
        "df_test = pd.read_csv('https://raw.githubusercontent.com/andremartins7/data_set_enem_2016/master/test.csv')\n",
        "df_resposta = pd.DataFrame()"
      ],
      "execution_count": 0,
      "outputs": []
    },
    {
      "cell_type": "code",
      "metadata": {
        "id": "6GXYj30EjSjO",
        "colab_type": "code",
        "outputId": "f1b8e8d9-acbc-41e7-8299-a3bf3f7ec1d3",
        "colab": {
          "base_uri": "https://localhost:8080/",
          "height": 35
        }
      },
      "source": [
        "# Verificar se os dados de teste estão nos dados de treinamento\n",
        "print(set(df_test.columns).issubset(set(df_train.columns)))"
      ],
      "execution_count": 118,
      "outputs": [
        {
          "output_type": "stream",
          "text": [
            "True\n"
          ],
          "name": "stdout"
        }
      ]
    },
    {
      "cell_type": "code",
      "metadata": {
        "id": "cdXH4-Jv1eOC",
        "colab_type": "code",
        "outputId": "a20f04d7-b92b-4cdb-cc33-cd2b95d9cdcb",
        "colab": {
          "base_uri": "https://localhost:8080/",
          "height": 237
        }
      },
      "source": [
        "# colunas\n",
        "df_test.columns"
      ],
      "execution_count": 119,
      "outputs": [
        {
          "output_type": "execute_result",
          "data": {
            "text/plain": [
              "Index(['NU_INSCRICAO', 'CO_UF_RESIDENCIA', 'SG_UF_RESIDENCIA', 'NU_IDADE',\n",
              "       'TP_SEXO', 'TP_COR_RACA', 'TP_NACIONALIDADE', 'TP_ST_CONCLUSAO',\n",
              "       'TP_ANO_CONCLUIU', 'TP_ESCOLA', 'TP_ENSINO', 'IN_TREINEIRO',\n",
              "       'TP_DEPENDENCIA_ADM_ESC', 'IN_BAIXA_VISAO', 'IN_CEGUEIRA', 'IN_SURDEZ',\n",
              "       'IN_DISLEXIA', 'IN_DISCALCULIA', 'IN_SABATISTA', 'IN_GESTANTE',\n",
              "       'IN_IDOSO', 'TP_PRESENCA_CN', 'TP_PRESENCA_CH', 'TP_PRESENCA_LC',\n",
              "       'CO_PROVA_CN', 'CO_PROVA_CH', 'CO_PROVA_LC', 'CO_PROVA_MT',\n",
              "       'NU_NOTA_CN', 'NU_NOTA_CH', 'NU_NOTA_LC', 'TP_LINGUA',\n",
              "       'TP_STATUS_REDACAO', 'NU_NOTA_COMP1', 'NU_NOTA_COMP2', 'NU_NOTA_COMP3',\n",
              "       'NU_NOTA_COMP4', 'NU_NOTA_COMP5', 'NU_NOTA_REDACAO', 'Q001', 'Q002',\n",
              "       'Q006', 'Q024', 'Q025', 'Q026', 'Q027', 'Q047'],\n",
              "      dtype='object')"
            ]
          },
          "metadata": {
            "tags": []
          },
          "execution_count": 119
        }
      ]
    },
    {
      "cell_type": "code",
      "metadata": {
        "id": "l3zBBvWQ1nof",
        "colab_type": "code",
        "outputId": "30184416-d27c-432b-b7d1-aea2ebc767eb",
        "colab": {
          "base_uri": "https://localhost:8080/",
          "height": 461
        }
      },
      "source": [
        "# Features que tem uma maior correlação com o nosso target (NU_NOTA_MT)\n",
        "df_train.corr()"
      ],
      "execution_count": 120,
      "outputs": [
        {
          "output_type": "execute_result",
          "data": {
            "text/html": [
              "<div>\n",
              "<style scoped>\n",
              "    .dataframe tbody tr th:only-of-type {\n",
              "        vertical-align: middle;\n",
              "    }\n",
              "\n",
              "    .dataframe tbody tr th {\n",
              "        vertical-align: top;\n",
              "    }\n",
              "\n",
              "    .dataframe thead th {\n",
              "        text-align: right;\n",
              "    }\n",
              "</style>\n",
              "<table border=\"1\" class=\"dataframe\">\n",
              "  <thead>\n",
              "    <tr style=\"text-align: right;\">\n",
              "      <th></th>\n",
              "      <th>Unnamed: 0</th>\n",
              "      <th>NU_ANO</th>\n",
              "      <th>CO_MUNICIPIO_RESIDENCIA</th>\n",
              "      <th>CO_UF_RESIDENCIA</th>\n",
              "      <th>NU_IDADE</th>\n",
              "      <th>TP_ESTADO_CIVIL</th>\n",
              "      <th>TP_COR_RACA</th>\n",
              "      <th>TP_NACIONALIDADE</th>\n",
              "      <th>CO_MUNICIPIO_NASCIMENTO</th>\n",
              "      <th>CO_UF_NASCIMENTO</th>\n",
              "      <th>TP_ST_CONCLUSAO</th>\n",
              "      <th>TP_ANO_CONCLUIU</th>\n",
              "      <th>TP_ESCOLA</th>\n",
              "      <th>TP_ENSINO</th>\n",
              "      <th>IN_TREINEIRO</th>\n",
              "      <th>CO_ESCOLA</th>\n",
              "      <th>CO_MUNICIPIO_ESC</th>\n",
              "      <th>CO_UF_ESC</th>\n",
              "      <th>TP_DEPENDENCIA_ADM_ESC</th>\n",
              "      <th>TP_LOCALIZACAO_ESC</th>\n",
              "      <th>TP_SIT_FUNC_ESC</th>\n",
              "      <th>IN_BAIXA_VISAO</th>\n",
              "      <th>IN_CEGUEIRA</th>\n",
              "      <th>IN_SURDEZ</th>\n",
              "      <th>IN_DEFICIENCIA_AUDITIVA</th>\n",
              "      <th>IN_SURDO_CEGUEIRA</th>\n",
              "      <th>IN_DEFICIENCIA_FISICA</th>\n",
              "      <th>IN_DEFICIENCIA_MENTAL</th>\n",
              "      <th>IN_DEFICIT_ATENCAO</th>\n",
              "      <th>IN_DISLEXIA</th>\n",
              "      <th>IN_DISCALCULIA</th>\n",
              "      <th>IN_AUTISMO</th>\n",
              "      <th>IN_VISAO_MONOCULAR</th>\n",
              "      <th>IN_OUTRA_DEF</th>\n",
              "      <th>IN_SABATISTA</th>\n",
              "      <th>IN_GESTANTE</th>\n",
              "      <th>IN_LACTANTE</th>\n",
              "      <th>IN_IDOSO</th>\n",
              "      <th>IN_ESTUDA_CLASSE_HOSPITALAR</th>\n",
              "      <th>IN_SEM_RECURSO</th>\n",
              "      <th>...</th>\n",
              "      <th>IN_SALA_INDIVIDUAL</th>\n",
              "      <th>IN_SALA_ESPECIAL</th>\n",
              "      <th>IN_SALA_ACOMPANHANTE</th>\n",
              "      <th>IN_MOBILIARIO_ESPECIFICO</th>\n",
              "      <th>IN_MATERIAL_ESPECIFICO</th>\n",
              "      <th>IN_NOME_SOCIAL</th>\n",
              "      <th>IN_CERTIFICADO</th>\n",
              "      <th>CO_UF_ENTIDADE_CERTIFICACAO</th>\n",
              "      <th>CO_MUNICIPIO_PROVA</th>\n",
              "      <th>CO_UF_PROVA</th>\n",
              "      <th>TP_PRESENCA_CN</th>\n",
              "      <th>TP_PRESENCA_CH</th>\n",
              "      <th>TP_PRESENCA_LC</th>\n",
              "      <th>TP_PRESENCA_MT</th>\n",
              "      <th>NU_NOTA_CN</th>\n",
              "      <th>NU_NOTA_CH</th>\n",
              "      <th>NU_NOTA_LC</th>\n",
              "      <th>NU_NOTA_MT</th>\n",
              "      <th>TP_LINGUA</th>\n",
              "      <th>TP_STATUS_REDACAO</th>\n",
              "      <th>NU_NOTA_COMP1</th>\n",
              "      <th>NU_NOTA_COMP2</th>\n",
              "      <th>NU_NOTA_COMP3</th>\n",
              "      <th>NU_NOTA_COMP4</th>\n",
              "      <th>NU_NOTA_COMP5</th>\n",
              "      <th>NU_NOTA_REDACAO</th>\n",
              "      <th>Q005</th>\n",
              "      <th>Q029</th>\n",
              "      <th>Q030</th>\n",
              "      <th>Q031</th>\n",
              "      <th>Q032</th>\n",
              "      <th>Q033</th>\n",
              "      <th>Q034</th>\n",
              "      <th>Q035</th>\n",
              "      <th>Q036</th>\n",
              "      <th>Q037</th>\n",
              "      <th>Q038</th>\n",
              "      <th>Q039</th>\n",
              "      <th>Q040</th>\n",
              "      <th>Q041</th>\n",
              "    </tr>\n",
              "  </thead>\n",
              "  <tbody>\n",
              "    <tr>\n",
              "      <th>Unnamed: 0</th>\n",
              "      <td>1.000000</td>\n",
              "      <td>NaN</td>\n",
              "      <td>-0.007258</td>\n",
              "      <td>-0.007250</td>\n",
              "      <td>-0.007201</td>\n",
              "      <td>0.003678</td>\n",
              "      <td>0.005707</td>\n",
              "      <td>-0.006217</td>\n",
              "      <td>-0.004527</td>\n",
              "      <td>-0.004615</td>\n",
              "      <td>0.005852</td>\n",
              "      <td>-0.003362</td>\n",
              "      <td>-0.006252</td>\n",
              "      <td>0.011372</td>\n",
              "      <td>0.006717</td>\n",
              "      <td>-0.000351</td>\n",
              "      <td>-0.000586</td>\n",
              "      <td>-0.000214</td>\n",
              "      <td>-0.011217</td>\n",
              "      <td>-0.013523</td>\n",
              "      <td>0.019805</td>\n",
              "      <td>0.003334</td>\n",
              "      <td>NaN</td>\n",
              "      <td>0.007724</td>\n",
              "      <td>0.004315</td>\n",
              "      <td>NaN</td>\n",
              "      <td>0.005417</td>\n",
              "      <td>0.004539</td>\n",
              "      <td>0.000268</td>\n",
              "      <td>0.012234</td>\n",
              "      <td>-0.004620</td>\n",
              "      <td>NaN</td>\n",
              "      <td>0.003231</td>\n",
              "      <td>0.001924</td>\n",
              "      <td>0.011940</td>\n",
              "      <td>-0.010889</td>\n",
              "      <td>-0.007018</td>\n",
              "      <td>-0.000171</td>\n",
              "      <td>NaN</td>\n",
              "      <td>0.003136</td>\n",
              "      <td>...</td>\n",
              "      <td>NaN</td>\n",
              "      <td>0.003352</td>\n",
              "      <td>NaN</td>\n",
              "      <td>NaN</td>\n",
              "      <td>NaN</td>\n",
              "      <td>0.004508</td>\n",
              "      <td>0.002816</td>\n",
              "      <td>0.048289</td>\n",
              "      <td>-0.004246</td>\n",
              "      <td>-0.004350</td>\n",
              "      <td>0.017135</td>\n",
              "      <td>0.017135</td>\n",
              "      <td>0.017073</td>\n",
              "      <td>0.017073</td>\n",
              "      <td>0.000970</td>\n",
              "      <td>-0.008336</td>\n",
              "      <td>-0.006097</td>\n",
              "      <td>0.006530</td>\n",
              "      <td>0.007925</td>\n",
              "      <td>0.000369</td>\n",
              "      <td>-0.002789</td>\n",
              "      <td>-0.004959</td>\n",
              "      <td>-0.004945</td>\n",
              "      <td>-0.003911</td>\n",
              "      <td>-0.011240</td>\n",
              "      <td>-0.006711</td>\n",
              "      <td>-0.002971</td>\n",
              "      <td>0.012977</td>\n",
              "      <td>0.000160</td>\n",
              "      <td>0.023548</td>\n",
              "      <td>0.001520</td>\n",
              "      <td>0.018074</td>\n",
              "      <td>0.001693</td>\n",
              "      <td>-0.008141</td>\n",
              "      <td>0.002724</td>\n",
              "      <td>-0.004914</td>\n",
              "      <td>0.003906</td>\n",
              "      <td>0.001002</td>\n",
              "      <td>-0.010967</td>\n",
              "      <td>-0.029937</td>\n",
              "    </tr>\n",
              "    <tr>\n",
              "      <th>NU_ANO</th>\n",
              "      <td>NaN</td>\n",
              "      <td>NaN</td>\n",
              "      <td>NaN</td>\n",
              "      <td>NaN</td>\n",
              "      <td>NaN</td>\n",
              "      <td>NaN</td>\n",
              "      <td>NaN</td>\n",
              "      <td>NaN</td>\n",
              "      <td>NaN</td>\n",
              "      <td>NaN</td>\n",
              "      <td>NaN</td>\n",
              "      <td>NaN</td>\n",
              "      <td>NaN</td>\n",
              "      <td>NaN</td>\n",
              "      <td>NaN</td>\n",
              "      <td>NaN</td>\n",
              "      <td>NaN</td>\n",
              "      <td>NaN</td>\n",
              "      <td>NaN</td>\n",
              "      <td>NaN</td>\n",
              "      <td>NaN</td>\n",
              "      <td>NaN</td>\n",
              "      <td>NaN</td>\n",
              "      <td>NaN</td>\n",
              "      <td>NaN</td>\n",
              "      <td>NaN</td>\n",
              "      <td>NaN</td>\n",
              "      <td>NaN</td>\n",
              "      <td>NaN</td>\n",
              "      <td>NaN</td>\n",
              "      <td>NaN</td>\n",
              "      <td>NaN</td>\n",
              "      <td>NaN</td>\n",
              "      <td>NaN</td>\n",
              "      <td>NaN</td>\n",
              "      <td>NaN</td>\n",
              "      <td>NaN</td>\n",
              "      <td>NaN</td>\n",
              "      <td>NaN</td>\n",
              "      <td>NaN</td>\n",
              "      <td>...</td>\n",
              "      <td>NaN</td>\n",
              "      <td>NaN</td>\n",
              "      <td>NaN</td>\n",
              "      <td>NaN</td>\n",
              "      <td>NaN</td>\n",
              "      <td>NaN</td>\n",
              "      <td>NaN</td>\n",
              "      <td>NaN</td>\n",
              "      <td>NaN</td>\n",
              "      <td>NaN</td>\n",
              "      <td>NaN</td>\n",
              "      <td>NaN</td>\n",
              "      <td>NaN</td>\n",
              "      <td>NaN</td>\n",
              "      <td>NaN</td>\n",
              "      <td>NaN</td>\n",
              "      <td>NaN</td>\n",
              "      <td>NaN</td>\n",
              "      <td>NaN</td>\n",
              "      <td>NaN</td>\n",
              "      <td>NaN</td>\n",
              "      <td>NaN</td>\n",
              "      <td>NaN</td>\n",
              "      <td>NaN</td>\n",
              "      <td>NaN</td>\n",
              "      <td>NaN</td>\n",
              "      <td>NaN</td>\n",
              "      <td>NaN</td>\n",
              "      <td>NaN</td>\n",
              "      <td>NaN</td>\n",
              "      <td>NaN</td>\n",
              "      <td>NaN</td>\n",
              "      <td>NaN</td>\n",
              "      <td>NaN</td>\n",
              "      <td>NaN</td>\n",
              "      <td>NaN</td>\n",
              "      <td>NaN</td>\n",
              "      <td>NaN</td>\n",
              "      <td>NaN</td>\n",
              "      <td>NaN</td>\n",
              "    </tr>\n",
              "    <tr>\n",
              "      <th>CO_MUNICIPIO_RESIDENCIA</th>\n",
              "      <td>-0.007258</td>\n",
              "      <td>NaN</td>\n",
              "      <td>1.000000</td>\n",
              "      <td>0.999865</td>\n",
              "      <td>-0.002296</td>\n",
              "      <td>0.020813</td>\n",
              "      <td>-0.236178</td>\n",
              "      <td>0.009710</td>\n",
              "      <td>0.865294</td>\n",
              "      <td>0.865216</td>\n",
              "      <td>0.025402</td>\n",
              "      <td>-0.032664</td>\n",
              "      <td>0.041738</td>\n",
              "      <td>0.018070</td>\n",
              "      <td>-0.035317</td>\n",
              "      <td>0.983407</td>\n",
              "      <td>0.983630</td>\n",
              "      <td>0.983488</td>\n",
              "      <td>0.080064</td>\n",
              "      <td>-0.055710</td>\n",
              "      <td>0.024364</td>\n",
              "      <td>0.001188</td>\n",
              "      <td>NaN</td>\n",
              "      <td>-0.010872</td>\n",
              "      <td>0.012790</td>\n",
              "      <td>NaN</td>\n",
              "      <td>-0.001965</td>\n",
              "      <td>0.000846</td>\n",
              "      <td>0.012051</td>\n",
              "      <td>0.003969</td>\n",
              "      <td>0.001007</td>\n",
              "      <td>NaN</td>\n",
              "      <td>-0.007271</td>\n",
              "      <td>0.008818</td>\n",
              "      <td>-0.030268</td>\n",
              "      <td>-0.009254</td>\n",
              "      <td>0.000398</td>\n",
              "      <td>-0.014474</td>\n",
              "      <td>NaN</td>\n",
              "      <td>-0.003578</td>\n",
              "      <td>...</td>\n",
              "      <td>NaN</td>\n",
              "      <td>0.003713</td>\n",
              "      <td>NaN</td>\n",
              "      <td>NaN</td>\n",
              "      <td>NaN</td>\n",
              "      <td>0.008911</td>\n",
              "      <td>-0.003259</td>\n",
              "      <td>0.991124</td>\n",
              "      <td>0.982100</td>\n",
              "      <td>0.981955</td>\n",
              "      <td>-0.035441</td>\n",
              "      <td>-0.035441</td>\n",
              "      <td>-0.034269</td>\n",
              "      <td>-0.034269</td>\n",
              "      <td>0.085643</td>\n",
              "      <td>0.124272</td>\n",
              "      <td>0.130161</td>\n",
              "      <td>0.108850</td>\n",
              "      <td>-0.098682</td>\n",
              "      <td>-0.017227</td>\n",
              "      <td>0.069971</td>\n",
              "      <td>0.048547</td>\n",
              "      <td>0.051289</td>\n",
              "      <td>0.062718</td>\n",
              "      <td>0.044335</td>\n",
              "      <td>0.061549</td>\n",
              "      <td>-0.117804</td>\n",
              "      <td>-0.073321</td>\n",
              "      <td>-0.079831</td>\n",
              "      <td>-0.025616</td>\n",
              "      <td>0.004115</td>\n",
              "      <td>-0.030114</td>\n",
              "      <td>-0.050304</td>\n",
              "      <td>-0.050138</td>\n",
              "      <td>-0.040668</td>\n",
              "      <td>-0.013479</td>\n",
              "      <td>-0.032710</td>\n",
              "      <td>-0.094862</td>\n",
              "      <td>-0.077456</td>\n",
              "      <td>-0.033205</td>\n",
              "    </tr>\n",
              "    <tr>\n",
              "      <th>CO_UF_RESIDENCIA</th>\n",
              "      <td>-0.007250</td>\n",
              "      <td>NaN</td>\n",
              "      <td>0.999865</td>\n",
              "      <td>1.000000</td>\n",
              "      <td>-0.002017</td>\n",
              "      <td>0.020947</td>\n",
              "      <td>-0.234786</td>\n",
              "      <td>0.009433</td>\n",
              "      <td>0.864791</td>\n",
              "      <td>0.864919</td>\n",
              "      <td>0.025822</td>\n",
              "      <td>-0.032538</td>\n",
              "      <td>0.041406</td>\n",
              "      <td>0.018145</td>\n",
              "      <td>-0.034944</td>\n",
              "      <td>0.983393</td>\n",
              "      <td>0.983417</td>\n",
              "      <td>0.983552</td>\n",
              "      <td>0.079229</td>\n",
              "      <td>-0.054736</td>\n",
              "      <td>0.024666</td>\n",
              "      <td>0.001360</td>\n",
              "      <td>NaN</td>\n",
              "      <td>-0.010716</td>\n",
              "      <td>0.013035</td>\n",
              "      <td>NaN</td>\n",
              "      <td>-0.001914</td>\n",
              "      <td>0.000934</td>\n",
              "      <td>0.011867</td>\n",
              "      <td>0.003689</td>\n",
              "      <td>0.001093</td>\n",
              "      <td>NaN</td>\n",
              "      <td>-0.007216</td>\n",
              "      <td>0.008782</td>\n",
              "      <td>-0.029933</td>\n",
              "      <td>-0.009503</td>\n",
              "      <td>0.000516</td>\n",
              "      <td>-0.014365</td>\n",
              "      <td>NaN</td>\n",
              "      <td>-0.003675</td>\n",
              "      <td>...</td>\n",
              "      <td>NaN</td>\n",
              "      <td>0.003689</td>\n",
              "      <td>NaN</td>\n",
              "      <td>NaN</td>\n",
              "      <td>NaN</td>\n",
              "      <td>0.008251</td>\n",
              "      <td>-0.002454</td>\n",
              "      <td>0.991177</td>\n",
              "      <td>0.981938</td>\n",
              "      <td>0.982035</td>\n",
              "      <td>-0.035438</td>\n",
              "      <td>-0.035438</td>\n",
              "      <td>-0.034287</td>\n",
              "      <td>-0.034287</td>\n",
              "      <td>0.084534</td>\n",
              "      <td>0.122825</td>\n",
              "      <td>0.128479</td>\n",
              "      <td>0.107493</td>\n",
              "      <td>-0.096473</td>\n",
              "      <td>-0.016955</td>\n",
              "      <td>0.069195</td>\n",
              "      <td>0.047746</td>\n",
              "      <td>0.050400</td>\n",
              "      <td>0.061881</td>\n",
              "      <td>0.043565</td>\n",
              "      <td>0.060629</td>\n",
              "      <td>-0.117288</td>\n",
              "      <td>-0.073029</td>\n",
              "      <td>-0.078885</td>\n",
              "      <td>-0.025491</td>\n",
              "      <td>0.003968</td>\n",
              "      <td>-0.030345</td>\n",
              "      <td>-0.050096</td>\n",
              "      <td>-0.049292</td>\n",
              "      <td>-0.040688</td>\n",
              "      <td>-0.013647</td>\n",
              "      <td>-0.032467</td>\n",
              "      <td>-0.094113</td>\n",
              "      <td>-0.076838</td>\n",
              "      <td>-0.033149</td>\n",
              "    </tr>\n",
              "    <tr>\n",
              "      <th>NU_IDADE</th>\n",
              "      <td>-0.007201</td>\n",
              "      <td>NaN</td>\n",
              "      <td>-0.002296</td>\n",
              "      <td>-0.002017</td>\n",
              "      <td>1.000000</td>\n",
              "      <td>0.533462</td>\n",
              "      <td>0.009675</td>\n",
              "      <td>-0.017713</td>\n",
              "      <td>-0.030711</td>\n",
              "      <td>-0.030259</td>\n",
              "      <td>-0.253403</td>\n",
              "      <td>0.681435</td>\n",
              "      <td>-0.296328</td>\n",
              "      <td>0.516253</td>\n",
              "      <td>-0.295091</td>\n",
              "      <td>-0.019091</td>\n",
              "      <td>-0.019710</td>\n",
              "      <td>-0.019013</td>\n",
              "      <td>-0.082980</td>\n",
              "      <td>0.009653</td>\n",
              "      <td>0.007082</td>\n",
              "      <td>0.027907</td>\n",
              "      <td>NaN</td>\n",
              "      <td>0.006520</td>\n",
              "      <td>0.011380</td>\n",
              "      <td>NaN</td>\n",
              "      <td>0.036361</td>\n",
              "      <td>0.000696</td>\n",
              "      <td>-0.006294</td>\n",
              "      <td>0.000492</td>\n",
              "      <td>-0.004355</td>\n",
              "      <td>NaN</td>\n",
              "      <td>0.023470</td>\n",
              "      <td>0.018252</td>\n",
              "      <td>0.004965</td>\n",
              "      <td>0.006482</td>\n",
              "      <td>0.010583</td>\n",
              "      <td>0.074384</td>\n",
              "      <td>NaN</td>\n",
              "      <td>0.026882</td>\n",
              "      <td>...</td>\n",
              "      <td>NaN</td>\n",
              "      <td>0.021091</td>\n",
              "      <td>NaN</td>\n",
              "      <td>NaN</td>\n",
              "      <td>NaN</td>\n",
              "      <td>0.042833</td>\n",
              "      <td>0.107104</td>\n",
              "      <td>0.160722</td>\n",
              "      <td>-0.001644</td>\n",
              "      <td>-0.001327</td>\n",
              "      <td>-0.245190</td>\n",
              "      <td>-0.245190</td>\n",
              "      <td>-0.241092</td>\n",
              "      <td>-0.241092</td>\n",
              "      <td>-0.056171</td>\n",
              "      <td>-0.001611</td>\n",
              "      <td>-0.024979</td>\n",
              "      <td>-0.061485</td>\n",
              "      <td>0.082065</td>\n",
              "      <td>0.055675</td>\n",
              "      <td>-0.102243</td>\n",
              "      <td>-0.114181</td>\n",
              "      <td>-0.104293</td>\n",
              "      <td>-0.110452</td>\n",
              "      <td>-0.086709</td>\n",
              "      <td>-0.116125</td>\n",
              "      <td>-0.097169</td>\n",
              "      <td>-0.035952</td>\n",
              "      <td>0.418387</td>\n",
              "      <td>0.018634</td>\n",
              "      <td>-0.044791</td>\n",
              "      <td>0.025077</td>\n",
              "      <td>-0.030681</td>\n",
              "      <td>0.012739</td>\n",
              "      <td>0.021949</td>\n",
              "      <td>-0.003569</td>\n",
              "      <td>-0.035306</td>\n",
              "      <td>-0.069973</td>\n",
              "      <td>-0.010988</td>\n",
              "      <td>0.160526</td>\n",
              "    </tr>\n",
              "    <tr>\n",
              "      <th>...</th>\n",
              "      <td>...</td>\n",
              "      <td>...</td>\n",
              "      <td>...</td>\n",
              "      <td>...</td>\n",
              "      <td>...</td>\n",
              "      <td>...</td>\n",
              "      <td>...</td>\n",
              "      <td>...</td>\n",
              "      <td>...</td>\n",
              "      <td>...</td>\n",
              "      <td>...</td>\n",
              "      <td>...</td>\n",
              "      <td>...</td>\n",
              "      <td>...</td>\n",
              "      <td>...</td>\n",
              "      <td>...</td>\n",
              "      <td>...</td>\n",
              "      <td>...</td>\n",
              "      <td>...</td>\n",
              "      <td>...</td>\n",
              "      <td>...</td>\n",
              "      <td>...</td>\n",
              "      <td>...</td>\n",
              "      <td>...</td>\n",
              "      <td>...</td>\n",
              "      <td>...</td>\n",
              "      <td>...</td>\n",
              "      <td>...</td>\n",
              "      <td>...</td>\n",
              "      <td>...</td>\n",
              "      <td>...</td>\n",
              "      <td>...</td>\n",
              "      <td>...</td>\n",
              "      <td>...</td>\n",
              "      <td>...</td>\n",
              "      <td>...</td>\n",
              "      <td>...</td>\n",
              "      <td>...</td>\n",
              "      <td>...</td>\n",
              "      <td>...</td>\n",
              "      <td>...</td>\n",
              "      <td>...</td>\n",
              "      <td>...</td>\n",
              "      <td>...</td>\n",
              "      <td>...</td>\n",
              "      <td>...</td>\n",
              "      <td>...</td>\n",
              "      <td>...</td>\n",
              "      <td>...</td>\n",
              "      <td>...</td>\n",
              "      <td>...</td>\n",
              "      <td>...</td>\n",
              "      <td>...</td>\n",
              "      <td>...</td>\n",
              "      <td>...</td>\n",
              "      <td>...</td>\n",
              "      <td>...</td>\n",
              "      <td>...</td>\n",
              "      <td>...</td>\n",
              "      <td>...</td>\n",
              "      <td>...</td>\n",
              "      <td>...</td>\n",
              "      <td>...</td>\n",
              "      <td>...</td>\n",
              "      <td>...</td>\n",
              "      <td>...</td>\n",
              "      <td>...</td>\n",
              "      <td>...</td>\n",
              "      <td>...</td>\n",
              "      <td>...</td>\n",
              "      <td>...</td>\n",
              "      <td>...</td>\n",
              "      <td>...</td>\n",
              "      <td>...</td>\n",
              "      <td>...</td>\n",
              "      <td>...</td>\n",
              "      <td>...</td>\n",
              "      <td>...</td>\n",
              "      <td>...</td>\n",
              "      <td>...</td>\n",
              "      <td>...</td>\n",
              "    </tr>\n",
              "    <tr>\n",
              "      <th>Q037</th>\n",
              "      <td>-0.004914</td>\n",
              "      <td>NaN</td>\n",
              "      <td>-0.013479</td>\n",
              "      <td>-0.013647</td>\n",
              "      <td>-0.003569</td>\n",
              "      <td>0.002294</td>\n",
              "      <td>0.086642</td>\n",
              "      <td>0.032588</td>\n",
              "      <td>-0.024174</td>\n",
              "      <td>-0.024201</td>\n",
              "      <td>0.001767</td>\n",
              "      <td>-0.007379</td>\n",
              "      <td>-0.019991</td>\n",
              "      <td>0.024624</td>\n",
              "      <td>-0.020651</td>\n",
              "      <td>0.012459</td>\n",
              "      <td>0.012914</td>\n",
              "      <td>0.012547</td>\n",
              "      <td>-0.242419</td>\n",
              "      <td>-0.017336</td>\n",
              "      <td>0.007576</td>\n",
              "      <td>-0.030724</td>\n",
              "      <td>NaN</td>\n",
              "      <td>-0.007300</td>\n",
              "      <td>-0.011326</td>\n",
              "      <td>NaN</td>\n",
              "      <td>0.002899</td>\n",
              "      <td>0.005441</td>\n",
              "      <td>-0.059131</td>\n",
              "      <td>-0.017487</td>\n",
              "      <td>0.003847</td>\n",
              "      <td>NaN</td>\n",
              "      <td>0.006522</td>\n",
              "      <td>0.010181</td>\n",
              "      <td>0.006787</td>\n",
              "      <td>0.007958</td>\n",
              "      <td>0.013507</td>\n",
              "      <td>0.005441</td>\n",
              "      <td>NaN</td>\n",
              "      <td>-0.016199</td>\n",
              "      <td>...</td>\n",
              "      <td>NaN</td>\n",
              "      <td>0.003847</td>\n",
              "      <td>NaN</td>\n",
              "      <td>NaN</td>\n",
              "      <td>NaN</td>\n",
              "      <td>-0.004119</td>\n",
              "      <td>0.023996</td>\n",
              "      <td>-0.061345</td>\n",
              "      <td>-0.011504</td>\n",
              "      <td>-0.011557</td>\n",
              "      <td>-0.028485</td>\n",
              "      <td>-0.028485</td>\n",
              "      <td>-0.026968</td>\n",
              "      <td>-0.026968</td>\n",
              "      <td>-0.273410</td>\n",
              "      <td>-0.235883</td>\n",
              "      <td>-0.212129</td>\n",
              "      <td>-0.265249</td>\n",
              "      <td>0.106602</td>\n",
              "      <td>0.011440</td>\n",
              "      <td>-0.136336</td>\n",
              "      <td>-0.173082</td>\n",
              "      <td>-0.177818</td>\n",
              "      <td>-0.159789</td>\n",
              "      <td>-0.175356</td>\n",
              "      <td>-0.187413</td>\n",
              "      <td>0.041987</td>\n",
              "      <td>0.172342</td>\n",
              "      <td>0.093032</td>\n",
              "      <td>0.118516</td>\n",
              "      <td>0.220839</td>\n",
              "      <td>0.225791</td>\n",
              "      <td>0.245757</td>\n",
              "      <td>0.202230</td>\n",
              "      <td>0.387722</td>\n",
              "      <td>1.000000</td>\n",
              "      <td>0.496678</td>\n",
              "      <td>0.254418</td>\n",
              "      <td>0.270380</td>\n",
              "      <td>0.187921</td>\n",
              "    </tr>\n",
              "    <tr>\n",
              "      <th>Q038</th>\n",
              "      <td>0.003906</td>\n",
              "      <td>NaN</td>\n",
              "      <td>-0.032710</td>\n",
              "      <td>-0.032467</td>\n",
              "      <td>-0.035306</td>\n",
              "      <td>-0.014725</td>\n",
              "      <td>0.069298</td>\n",
              "      <td>0.024112</td>\n",
              "      <td>-0.038666</td>\n",
              "      <td>-0.038305</td>\n",
              "      <td>0.080592</td>\n",
              "      <td>-0.072813</td>\n",
              "      <td>0.035877</td>\n",
              "      <td>0.041203</td>\n",
              "      <td>0.018855</td>\n",
              "      <td>-0.040819</td>\n",
              "      <td>-0.040648</td>\n",
              "      <td>-0.040294</td>\n",
              "      <td>-0.145333</td>\n",
              "      <td>0.005955</td>\n",
              "      <td>-0.030931</td>\n",
              "      <td>-0.028589</td>\n",
              "      <td>NaN</td>\n",
              "      <td>-0.003668</td>\n",
              "      <td>-0.003958</td>\n",
              "      <td>NaN</td>\n",
              "      <td>-0.001605</td>\n",
              "      <td>-0.008750</td>\n",
              "      <td>-0.010402</td>\n",
              "      <td>-0.003661</td>\n",
              "      <td>0.006443</td>\n",
              "      <td>NaN</td>\n",
              "      <td>-0.004843</td>\n",
              "      <td>-0.000138</td>\n",
              "      <td>-0.011170</td>\n",
              "      <td>-0.000589</td>\n",
              "      <td>0.015154</td>\n",
              "      <td>-0.005177</td>\n",
              "      <td>NaN</td>\n",
              "      <td>-0.008920</td>\n",
              "      <td>...</td>\n",
              "      <td>NaN</td>\n",
              "      <td>-0.013765</td>\n",
              "      <td>NaN</td>\n",
              "      <td>NaN</td>\n",
              "      <td>NaN</td>\n",
              "      <td>0.005371</td>\n",
              "      <td>0.067713</td>\n",
              "      <td>-0.051558</td>\n",
              "      <td>-0.034378</td>\n",
              "      <td>-0.034074</td>\n",
              "      <td>-0.016003</td>\n",
              "      <td>-0.016003</td>\n",
              "      <td>-0.019277</td>\n",
              "      <td>-0.019277</td>\n",
              "      <td>-0.202920</td>\n",
              "      <td>-0.221562</td>\n",
              "      <td>-0.221847</td>\n",
              "      <td>-0.202259</td>\n",
              "      <td>0.092053</td>\n",
              "      <td>0.017835</td>\n",
              "      <td>-0.141339</td>\n",
              "      <td>-0.157421</td>\n",
              "      <td>-0.164138</td>\n",
              "      <td>-0.153423</td>\n",
              "      <td>-0.147931</td>\n",
              "      <td>-0.172875</td>\n",
              "      <td>0.046494</td>\n",
              "      <td>0.169494</td>\n",
              "      <td>0.130559</td>\n",
              "      <td>0.101342</td>\n",
              "      <td>0.159887</td>\n",
              "      <td>0.223508</td>\n",
              "      <td>0.215767</td>\n",
              "      <td>0.142610</td>\n",
              "      <td>0.378421</td>\n",
              "      <td>0.496678</td>\n",
              "      <td>1.000000</td>\n",
              "      <td>0.374424</td>\n",
              "      <td>0.259947</td>\n",
              "      <td>0.219529</td>\n",
              "    </tr>\n",
              "    <tr>\n",
              "      <th>Q039</th>\n",
              "      <td>0.001002</td>\n",
              "      <td>NaN</td>\n",
              "      <td>-0.094862</td>\n",
              "      <td>-0.094113</td>\n",
              "      <td>-0.069973</td>\n",
              "      <td>-0.066346</td>\n",
              "      <td>0.046830</td>\n",
              "      <td>0.011327</td>\n",
              "      <td>-0.097273</td>\n",
              "      <td>-0.096666</td>\n",
              "      <td>0.019877</td>\n",
              "      <td>-0.048672</td>\n",
              "      <td>0.018430</td>\n",
              "      <td>-0.029358</td>\n",
              "      <td>0.040348</td>\n",
              "      <td>-0.122494</td>\n",
              "      <td>-0.123456</td>\n",
              "      <td>-0.122504</td>\n",
              "      <td>-0.005773</td>\n",
              "      <td>0.010145</td>\n",
              "      <td>-0.027551</td>\n",
              "      <td>-0.013989</td>\n",
              "      <td>NaN</td>\n",
              "      <td>0.001039</td>\n",
              "      <td>-0.002900</td>\n",
              "      <td>NaN</td>\n",
              "      <td>-0.006527</td>\n",
              "      <td>-0.007067</td>\n",
              "      <td>-0.017337</td>\n",
              "      <td>-0.002515</td>\n",
              "      <td>-0.017411</td>\n",
              "      <td>NaN</td>\n",
              "      <td>-0.006160</td>\n",
              "      <td>-0.008531</td>\n",
              "      <td>-0.009671</td>\n",
              "      <td>-0.010448</td>\n",
              "      <td>-0.017100</td>\n",
              "      <td>0.006977</td>\n",
              "      <td>NaN</td>\n",
              "      <td>-0.022318</td>\n",
              "      <td>...</td>\n",
              "      <td>NaN</td>\n",
              "      <td>0.002451</td>\n",
              "      <td>NaN</td>\n",
              "      <td>NaN</td>\n",
              "      <td>NaN</td>\n",
              "      <td>0.003260</td>\n",
              "      <td>0.004510</td>\n",
              "      <td>-0.129300</td>\n",
              "      <td>-0.094261</td>\n",
              "      <td>-0.093506</td>\n",
              "      <td>0.029835</td>\n",
              "      <td>0.029835</td>\n",
              "      <td>0.023827</td>\n",
              "      <td>0.023827</td>\n",
              "      <td>-0.000128</td>\n",
              "      <td>-0.039593</td>\n",
              "      <td>-0.052357</td>\n",
              "      <td>-0.019360</td>\n",
              "      <td>0.019176</td>\n",
              "      <td>0.010357</td>\n",
              "      <td>-0.032053</td>\n",
              "      <td>-0.024866</td>\n",
              "      <td>-0.023113</td>\n",
              "      <td>-0.022182</td>\n",
              "      <td>-0.006653</td>\n",
              "      <td>-0.023452</td>\n",
              "      <td>0.042499</td>\n",
              "      <td>0.183869</td>\n",
              "      <td>0.094260</td>\n",
              "      <td>0.104165</td>\n",
              "      <td>0.144264</td>\n",
              "      <td>0.206979</td>\n",
              "      <td>0.189252</td>\n",
              "      <td>0.225724</td>\n",
              "      <td>0.270343</td>\n",
              "      <td>0.254418</td>\n",
              "      <td>0.374424</td>\n",
              "      <td>1.000000</td>\n",
              "      <td>0.305357</td>\n",
              "      <td>0.262031</td>\n",
              "    </tr>\n",
              "    <tr>\n",
              "      <th>Q040</th>\n",
              "      <td>-0.010967</td>\n",
              "      <td>NaN</td>\n",
              "      <td>-0.077456</td>\n",
              "      <td>-0.076838</td>\n",
              "      <td>-0.010988</td>\n",
              "      <td>-0.022736</td>\n",
              "      <td>0.053556</td>\n",
              "      <td>0.014847</td>\n",
              "      <td>-0.081490</td>\n",
              "      <td>-0.080963</td>\n",
              "      <td>0.051951</td>\n",
              "      <td>-0.052564</td>\n",
              "      <td>0.036985</td>\n",
              "      <td>0.032923</td>\n",
              "      <td>0.005270</td>\n",
              "      <td>-0.078344</td>\n",
              "      <td>-0.078338</td>\n",
              "      <td>-0.077712</td>\n",
              "      <td>-0.059893</td>\n",
              "      <td>-0.003063</td>\n",
              "      <td>-0.053643</td>\n",
              "      <td>-0.009669</td>\n",
              "      <td>NaN</td>\n",
              "      <td>0.002551</td>\n",
              "      <td>-0.005720</td>\n",
              "      <td>NaN</td>\n",
              "      <td>0.007574</td>\n",
              "      <td>0.005699</td>\n",
              "      <td>-0.029558</td>\n",
              "      <td>-0.010417</td>\n",
              "      <td>0.004030</td>\n",
              "      <td>NaN</td>\n",
              "      <td>0.003974</td>\n",
              "      <td>-0.005720</td>\n",
              "      <td>-0.011202</td>\n",
              "      <td>0.004515</td>\n",
              "      <td>-0.007284</td>\n",
              "      <td>-0.030056</td>\n",
              "      <td>NaN</td>\n",
              "      <td>-0.012655</td>\n",
              "      <td>...</td>\n",
              "      <td>NaN</td>\n",
              "      <td>0.004030</td>\n",
              "      <td>NaN</td>\n",
              "      <td>NaN</td>\n",
              "      <td>NaN</td>\n",
              "      <td>-0.003911</td>\n",
              "      <td>0.061778</td>\n",
              "      <td>-0.048660</td>\n",
              "      <td>-0.076697</td>\n",
              "      <td>-0.076038</td>\n",
              "      <td>-0.013657</td>\n",
              "      <td>-0.013657</td>\n",
              "      <td>-0.016834</td>\n",
              "      <td>-0.016834</td>\n",
              "      <td>-0.113885</td>\n",
              "      <td>-0.133741</td>\n",
              "      <td>-0.128051</td>\n",
              "      <td>-0.119997</td>\n",
              "      <td>0.060805</td>\n",
              "      <td>0.003761</td>\n",
              "      <td>-0.081407</td>\n",
              "      <td>-0.095383</td>\n",
              "      <td>-0.099993</td>\n",
              "      <td>-0.090415</td>\n",
              "      <td>-0.084367</td>\n",
              "      <td>-0.102026</td>\n",
              "      <td>0.053892</td>\n",
              "      <td>0.181488</td>\n",
              "      <td>0.146498</td>\n",
              "      <td>0.157666</td>\n",
              "      <td>0.215292</td>\n",
              "      <td>0.176028</td>\n",
              "      <td>0.243190</td>\n",
              "      <td>0.179292</td>\n",
              "      <td>0.177025</td>\n",
              "      <td>0.270380</td>\n",
              "      <td>0.259947</td>\n",
              "      <td>0.305357</td>\n",
              "      <td>1.000000</td>\n",
              "      <td>0.306438</td>\n",
              "    </tr>\n",
              "    <tr>\n",
              "      <th>Q041</th>\n",
              "      <td>-0.029937</td>\n",
              "      <td>NaN</td>\n",
              "      <td>-0.033205</td>\n",
              "      <td>-0.033149</td>\n",
              "      <td>0.160526</td>\n",
              "      <td>0.108771</td>\n",
              "      <td>0.020966</td>\n",
              "      <td>0.008132</td>\n",
              "      <td>-0.042237</td>\n",
              "      <td>-0.042134</td>\n",
              "      <td>0.028234</td>\n",
              "      <td>0.084309</td>\n",
              "      <td>-0.087935</td>\n",
              "      <td>0.126503</td>\n",
              "      <td>-0.046232</td>\n",
              "      <td>-0.066173</td>\n",
              "      <td>-0.065058</td>\n",
              "      <td>-0.064864</td>\n",
              "      <td>-0.104268</td>\n",
              "      <td>-0.023198</td>\n",
              "      <td>-0.047072</td>\n",
              "      <td>0.014038</td>\n",
              "      <td>NaN</td>\n",
              "      <td>0.012383</td>\n",
              "      <td>0.003471</td>\n",
              "      <td>NaN</td>\n",
              "      <td>0.019857</td>\n",
              "      <td>0.014038</td>\n",
              "      <td>NaN</td>\n",
              "      <td>NaN</td>\n",
              "      <td>NaN</td>\n",
              "      <td>NaN</td>\n",
              "      <td>-0.006192</td>\n",
              "      <td>-0.002564</td>\n",
              "      <td>0.002688</td>\n",
              "      <td>NaN</td>\n",
              "      <td>0.008509</td>\n",
              "      <td>0.014038</td>\n",
              "      <td>NaN</td>\n",
              "      <td>0.006088</td>\n",
              "      <td>...</td>\n",
              "      <td>NaN</td>\n",
              "      <td>NaN</td>\n",
              "      <td>NaN</td>\n",
              "      <td>NaN</td>\n",
              "      <td>NaN</td>\n",
              "      <td>NaN</td>\n",
              "      <td>0.073878</td>\n",
              "      <td>0.055977</td>\n",
              "      <td>-0.037427</td>\n",
              "      <td>-0.037275</td>\n",
              "      <td>-0.054062</td>\n",
              "      <td>-0.054062</td>\n",
              "      <td>-0.050498</td>\n",
              "      <td>-0.050498</td>\n",
              "      <td>-0.119035</td>\n",
              "      <td>-0.118760</td>\n",
              "      <td>-0.118779</td>\n",
              "      <td>-0.131795</td>\n",
              "      <td>0.053789</td>\n",
              "      <td>0.009012</td>\n",
              "      <td>-0.088096</td>\n",
              "      <td>-0.082863</td>\n",
              "      <td>-0.069967</td>\n",
              "      <td>-0.082042</td>\n",
              "      <td>-0.057855</td>\n",
              "      <td>-0.087124</td>\n",
              "      <td>0.034236</td>\n",
              "      <td>0.164861</td>\n",
              "      <td>0.254543</td>\n",
              "      <td>0.133700</td>\n",
              "      <td>0.233832</td>\n",
              "      <td>0.205239</td>\n",
              "      <td>0.154743</td>\n",
              "      <td>0.113574</td>\n",
              "      <td>0.214736</td>\n",
              "      <td>0.187921</td>\n",
              "      <td>0.219529</td>\n",
              "      <td>0.262031</td>\n",
              "      <td>0.306438</td>\n",
              "      <td>1.000000</td>\n",
              "    </tr>\n",
              "  </tbody>\n",
              "</table>\n",
              "<p>107 rows × 107 columns</p>\n",
              "</div>"
            ],
            "text/plain": [
              "                         Unnamed: 0  NU_ANO  ...      Q040      Q041\n",
              "Unnamed: 0                 1.000000     NaN  ... -0.010967 -0.029937\n",
              "NU_ANO                          NaN     NaN  ...       NaN       NaN\n",
              "CO_MUNICIPIO_RESIDENCIA   -0.007258     NaN  ... -0.077456 -0.033205\n",
              "CO_UF_RESIDENCIA          -0.007250     NaN  ... -0.076838 -0.033149\n",
              "NU_IDADE                  -0.007201     NaN  ... -0.010988  0.160526\n",
              "...                             ...     ...  ...       ...       ...\n",
              "Q037                      -0.004914     NaN  ...  0.270380  0.187921\n",
              "Q038                       0.003906     NaN  ...  0.259947  0.219529\n",
              "Q039                       0.001002     NaN  ...  0.305357  0.262031\n",
              "Q040                      -0.010967     NaN  ...  1.000000  0.306438\n",
              "Q041                      -0.029937     NaN  ...  0.306438  1.000000\n",
              "\n",
              "[107 rows x 107 columns]"
            ]
          },
          "metadata": {
            "tags": []
          },
          "execution_count": 120
        }
      ]
    },
    {
      "cell_type": "code",
      "metadata": {
        "id": "MNUIlfNW4Fe3",
        "colab_type": "code",
        "outputId": "30f208b1-914e-424f-af0d-a1617196186a",
        "colab": {
          "base_uri": "https://localhost:8080/",
          "height": 109
        }
      },
      "source": [
        "# Verificando os valores nulos na base de treino\n",
        "df_train[features].isnull().sum()"
      ],
      "execution_count": 121,
      "outputs": [
        {
          "output_type": "execute_result",
          "data": {
            "text/plain": [
              "NU_NOTA_CN         3389\n",
              "NU_NOTA_CH         3389\n",
              "NU_NOTA_LC         3597\n",
              "NU_NOTA_REDACAO    3597\n",
              "dtype: int64"
            ]
          },
          "metadata": {
            "tags": []
          },
          "execution_count": 121
        }
      ]
    },
    {
      "cell_type": "code",
      "metadata": {
        "id": "qDBrl_vI4QNw",
        "colab_type": "code",
        "outputId": "9c894468-9917-4284-979c-287bfe03d629",
        "colab": {
          "base_uri": "https://localhost:8080/",
          "height": 578
        }
      },
      "source": [
        "corr = df_train[features_corr].corr()\n",
        "ax = plt.subplots(figsize=(11, 8))\n",
        "sns.heatmap(corr,  annot=True, annot_kws={\"size\": 10})\n",
        "plt.show()"
      ],
      "execution_count": 122,
      "outputs": [
        {
          "output_type": "display_data",
          "data": {
            "image/png": "[encoded data removed]",
            "text/plain": [
              "<Figure size 792x576 with 2 Axes>"
            ]
          },
          "metadata": {
            "tags": [],
            "needs_background": "light"
          }
        }
      ]
    },
    {
      "cell_type": "code",
      "metadata": {
        "id": "5YlrlcaY5Rx2",
        "colab_type": "code",
        "outputId": "262c08bf-04f0-4664-9047-48096772412b",
        "colab": {
          "base_uri": "https://localhost:8080/",
          "height": 282
        }
      },
      "source": [
        "x0 = df_train['NU_NOTA_CN'].fillna(0)\n",
        "x1 = df_test['NU_NOTA_CN'].fillna(0)\n",
        "\n",
        "\n",
        "sns.distplot(x0)\n",
        "sns.distplot(x1)\n",
        "plt.legend(labels=['TRAIN','TEST'], ncol=2, loc='upper left');"
      ],
      "execution_count": 123,
      "outputs": [
        {
          "output_type": "display_data",
          "data": {
            "image/png": "[encoded data removed]",
            "text/plain": [
              "<Figure size 432x288 with 1 Axes>"
            ]
          },
          "metadata": {
            "tags": [],
            "needs_background": "light"
          }
        }
      ]
    },
    {
      "cell_type": "code",
      "metadata": {
        "id": "T1vHHXoh59qC",
        "colab_type": "code",
        "outputId": "1a84f897-78a0-475e-e4fb-03df4f99a946",
        "colab": {
          "base_uri": "https://localhost:8080/",
          "height": 282
        }
      },
      "source": [
        "x0 = df_train['NU_NOTA_CH'].fillna(0)\n",
        "x1 = df_test['NU_NOTA_CH'].fillna(0)\n",
        "\n",
        "\n",
        "sns.distplot(x0)\n",
        "sns.distplot(x1)\n",
        "plt.legend(labels=['TRAIN','TEST'], ncol=2, loc='upper left');"
      ],
      "execution_count": 124,
      "outputs": [
        {
          "output_type": "display_data",
          "data": {
            "image/png": "[encoded data removed]",
            "text/plain": [
              "<Figure size 432x288 with 1 Axes>"
            ]
          },
          "metadata": {
            "tags": [],
            "needs_background": "light"
          }
        }
      ]
    },
    {
      "cell_type": "code",
      "metadata": {
        "id": "JayjDcME6G2q",
        "colab_type": "code",
        "outputId": "241f874b-cb20-46cc-f7e9-1d47a639ca32",
        "colab": {
          "base_uri": "https://localhost:8080/",
          "height": 282
        }
      },
      "source": [
        "x0 = df_train['NU_NOTA_LC'].fillna(0)\n",
        "x1 = df_test['NU_NOTA_LC'].fillna(0)\n",
        "\n",
        "\n",
        "sns.distplot(x0)\n",
        "sns.distplot(x1)\n",
        "plt.legend(labels=['TRAIN','TEST'], ncol=2, loc='upper left');"
      ],
      "execution_count": 125,
      "outputs": [
        {
          "output_type": "display_data",
          "data": {
            "image/png": "[encoded data removed]",
            "text/plain": [
              "<Figure size 432x288 with 1 Axes>"
            ]
          },
          "metadata": {
            "tags": [],
            "needs_background": "light"
          }
        }
      ]
    },
    {
      "cell_type": "code",
      "metadata": {
        "id": "dqnhl_nT6Qhx",
        "colab_type": "code",
        "outputId": "68cdf602-9573-4e6e-f0ca-af92101d9dc5",
        "colab": {
          "base_uri": "https://localhost:8080/",
          "height": 282
        }
      },
      "source": [
        "x0 = df_train['NU_NOTA_REDACAO'].fillna(0)\n",
        "x1 = df_test['NU_NOTA_REDACAO'].fillna(0)\n",
        "\n",
        "\n",
        "sns.distplot(x0)\n",
        "sns.distplot(x1)\n",
        "plt.legend(labels=['TRAIN','TEST'], ncol=2, loc='upper left');"
      ],
      "execution_count": 126,
      "outputs": [
        {
          "output_type": "display_data",
          "data": {
            "image/png": "[encoded data removed]",
            "text/plain": [
              "<Figure size 432x288 with 1 Axes>"
            ]
          },
          "metadata": {
            "tags": [],
            "needs_background": "light"
          }
        }
      ]
    },
    {
      "cell_type": "code",
      "metadata": {
        "id": "VxyJU13K6ye-",
        "colab_type": "code",
        "colab": {}
      },
      "source": [
        "# Seleciona somente linhas com valores nesses 4 quesitos a baixo na base de train\n",
        "df_train = df_train.loc[\n",
        "      (df_train['NU_NOTA_CN'].notnull())  & (df_train['NU_NOTA_CN'] != 0) & (df_train['NU_NOTA_CH'].notnull())      & (df_train['NU_NOTA_CH'] != 0) \n",
        "    & (df_train['NU_NOTA_LC'].notnull())  & (df_train['NU_NOTA_LC'] != 0) & (df_train['NU_NOTA_REDACAO'].notnull()) & (df_train['NU_NOTA_REDACAO'] != 0)    \n",
        "]"
      ],
      "execution_count": 0,
      "outputs": []
    },
    {
      "cell_type": "code",
      "metadata": {
        "id": "4f_lKVFZ7q8M",
        "colab_type": "code",
        "outputId": "93d37873-0d57-4b00-985e-a79db336b0ff",
        "colab": {
          "base_uri": "https://localhost:8080/",
          "height": 282
        }
      },
      "source": [
        "x0 = df_train['NU_NOTA_CN'].fillna(0)\n",
        "x1 = df_test['NU_NOTA_CN'].fillna(0)\n",
        "\n",
        "\n",
        "sns.distplot(x0)\n",
        "sns.distplot(x1)\n",
        "plt.legend(labels=['TRAIN','TEST'], ncol=2, loc='upper left');"
      ],
      "execution_count": 128,
      "outputs": [
        {
          "output_type": "display_data",
          "data": {
            "image/png": "[encoded data removed]",
            "text/plain": [
              "<Figure size 432x288 with 1 Axes>"
            ]
          },
          "metadata": {
            "tags": [],
            "needs_background": "light"
          }
        }
      ]
    },
    {
      "cell_type": "code",
      "metadata": {
        "id": "88pt9N9j7wiJ",
        "colab_type": "code",
        "outputId": "4d937b6c-72cc-427a-9e55-de4602f39c6d",
        "colab": {
          "base_uri": "https://localhost:8080/",
          "height": 284
        }
      },
      "source": [
        "x0 = df_train['NU_NOTA_CH'].fillna(0)\n",
        "x1 = df_test['NU_NOTA_CH'].fillna(0)\n",
        "\n",
        "\n",
        "sns.distplot(x0)\n",
        "sns.distplot(x1)\n",
        "plt.legend(labels=['TRAIN','TEST'], ncol=2, loc='upper left');"
      ],
      "execution_count": 129,
      "outputs": [
        {
          "output_type": "display_data",
          "data": {
            "image/png": "[encoded data removed]",
            "text/plain": [
              "<Figure size 432x288 with 1 Axes>"
            ]
          },
          "metadata": {
            "tags": [],
            "needs_background": "light"
          }
        }
      ]
    },
    {
      "cell_type": "code",
      "metadata": {
        "id": "xpya1g0c71YM",
        "colab_type": "code",
        "outputId": "43245412-8fac-4eba-95ff-0e0e728ada94",
        "colab": {
          "base_uri": "https://localhost:8080/",
          "height": 282
        }
      },
      "source": [
        "x0 = df_train['NU_NOTA_LC'].fillna(0)\n",
        "x1 = df_test['NU_NOTA_LC'].fillna(0)\n",
        "\n",
        "\n",
        "sns.distplot(x0)\n",
        "sns.distplot(x1)\n",
        "plt.legend(labels=['TRAIN','TEST'], ncol=2, loc='upper left');"
      ],
      "execution_count": 130,
      "outputs": [
        {
          "output_type": "display_data",
          "data": {
            "image/png": "[encoded data removed]",
            "text/plain": [
              "<Figure size 432x288 with 1 Axes>"
            ]
          },
          "metadata": {
            "tags": [],
            "needs_background": "light"
          }
        }
      ]
    },
    {
      "cell_type": "code",
      "metadata": {
        "id": "UOajkEAd788j",
        "colab_type": "code",
        "outputId": "228de559-e0de-47f2-abc7-def62fe64aca",
        "colab": {
          "base_uri": "https://localhost:8080/",
          "height": 282
        }
      },
      "source": [
        "x0 = df_train['NU_NOTA_REDACAO'].fillna(0)\n",
        "x1 = df_test['NU_NOTA_REDACAO'].fillna(0)\n",
        "\n",
        "\n",
        "sns.distplot(x0)\n",
        "sns.distplot(x1)\n",
        "plt.legend(labels=['TRAIN','TEST'], ncol=2, loc='upper left');"
      ],
      "execution_count": 131,
      "outputs": [
        {
          "output_type": "display_data",
          "data": {
            "image/png": "[encoded data removed]",
            "text/plain": [
              "<Figure size 432x288 with 1 Axes>"
            ]
          },
          "metadata": {
            "tags": [],
            "needs_background": "light"
          }
        }
      ]
    },
    {
      "cell_type": "code",
      "metadata": {
        "id": "QU0nwDZCjtHg",
        "colab_type": "code",
        "colab": {}
      },
      "source": [
        "# Salvar os dados das inscrições\n",
        "df_resposta['NU_INSCRICAO'] = df_test['NU_INSCRICAO']"
      ],
      "execution_count": 0,
      "outputs": []
    },
    {
      "cell_type": "code",
      "metadata": {
        "id": "l09B41OUsxT-",
        "colab_type": "code",
        "colab": {}
      },
      "source": [
        "# Selecionar somente valores inteiros e floats\n",
        "df_test = df_test.select_dtypes(include=['int64','float64'])"
      ],
      "execution_count": 0,
      "outputs": []
    },
    {
      "cell_type": "code",
      "metadata": {
        "id": "4IER6EbBs3EP",
        "colab_type": "code",
        "outputId": "20ae5937-e7b8-46fe-dff9-ae6e99453626",
        "colab": {
          "base_uri": "https://localhost:8080/",
          "height": 238
        }
      },
      "source": [
        "# Correlação das notas com a idade e se o aluno é treineiro ou não\n",
        "var = ['NU_IDADE','IN_TREINEIRO','NU_NOTA_CN','NU_NOTA_CH','NU_NOTA_LC','NU_NOTA_REDACAO']\n",
        "df_test[var].corr()"
      ],
      "execution_count": 134,
      "outputs": [
        {
          "output_type": "execute_result",
          "data": {
            "text/html": [
              "<div>\n",
              "<style scoped>\n",
              "    .dataframe tbody tr th:only-of-type {\n",
              "        vertical-align: middle;\n",
              "    }\n",
              "\n",
              "    .dataframe tbody tr th {\n",
              "        vertical-align: top;\n",
              "    }\n",
              "\n",
              "    .dataframe thead th {\n",
              "        text-align: right;\n",
              "    }\n",
              "</style>\n",
              "<table border=\"1\" class=\"dataframe\">\n",
              "  <thead>\n",
              "    <tr style=\"text-align: right;\">\n",
              "      <th></th>\n",
              "      <th>NU_IDADE</th>\n",
              "      <th>IN_TREINEIRO</th>\n",
              "      <th>NU_NOTA_CN</th>\n",
              "      <th>NU_NOTA_CH</th>\n",
              "      <th>NU_NOTA_LC</th>\n",
              "      <th>NU_NOTA_REDACAO</th>\n",
              "    </tr>\n",
              "  </thead>\n",
              "  <tbody>\n",
              "    <tr>\n",
              "      <th>NU_IDADE</th>\n",
              "      <td>1.000000</td>\n",
              "      <td>-0.293714</td>\n",
              "      <td>-0.105278</td>\n",
              "      <td>-0.048229</td>\n",
              "      <td>-0.079171</td>\n",
              "      <td>-0.161202</td>\n",
              "    </tr>\n",
              "    <tr>\n",
              "      <th>IN_TREINEIRO</th>\n",
              "      <td>-0.293714</td>\n",
              "      <td>1.000000</td>\n",
              "      <td>-0.009669</td>\n",
              "      <td>-0.032181</td>\n",
              "      <td>-0.004934</td>\n",
              "      <td>-0.014277</td>\n",
              "    </tr>\n",
              "    <tr>\n",
              "      <th>NU_NOTA_CN</th>\n",
              "      <td>-0.105278</td>\n",
              "      <td>-0.009669</td>\n",
              "      <td>1.000000</td>\n",
              "      <td>0.598574</td>\n",
              "      <td>0.545801</td>\n",
              "      <td>0.442692</td>\n",
              "    </tr>\n",
              "    <tr>\n",
              "      <th>NU_NOTA_CH</th>\n",
              "      <td>-0.048229</td>\n",
              "      <td>-0.032181</td>\n",
              "      <td>0.598574</td>\n",
              "      <td>1.000000</td>\n",
              "      <td>0.679993</td>\n",
              "      <td>0.537141</td>\n",
              "    </tr>\n",
              "    <tr>\n",
              "      <th>NU_NOTA_LC</th>\n",
              "      <td>-0.079171</td>\n",
              "      <td>-0.004934</td>\n",
              "      <td>0.545801</td>\n",
              "      <td>0.679993</td>\n",
              "      <td>1.000000</td>\n",
              "      <td>0.495745</td>\n",
              "    </tr>\n",
              "    <tr>\n",
              "      <th>NU_NOTA_REDACAO</th>\n",
              "      <td>-0.161202</td>\n",
              "      <td>-0.014277</td>\n",
              "      <td>0.442692</td>\n",
              "      <td>0.537141</td>\n",
              "      <td>0.495745</td>\n",
              "      <td>1.000000</td>\n",
              "    </tr>\n",
              "  </tbody>\n",
              "</table>\n",
              "</div>"
            ],
            "text/plain": [
              "                 NU_IDADE  IN_TREINEIRO  ...  NU_NOTA_LC  NU_NOTA_REDACAO\n",
              "NU_IDADE         1.000000     -0.293714  ...   -0.079171        -0.161202\n",
              "IN_TREINEIRO    -0.293714      1.000000  ...   -0.004934        -0.014277\n",
              "NU_NOTA_CN      -0.105278     -0.009669  ...    0.545801         0.442692\n",
              "NU_NOTA_CH      -0.048229     -0.032181  ...    0.679993         0.537141\n",
              "NU_NOTA_LC      -0.079171     -0.004934  ...    1.000000         0.495745\n",
              "NU_NOTA_REDACAO -0.161202     -0.014277  ...    0.495745         1.000000\n",
              "\n",
              "[6 rows x 6 columns]"
            ]
          },
          "metadata": {
            "tags": []
          },
          "execution_count": 134
        }
      ]
    },
    {
      "cell_type": "code",
      "metadata": {
        "id": "6K9uSYHptbfN",
        "colab_type": "code",
        "colab": {}
      },
      "source": [
        "features = ['NU_NOTA_CN','NU_NOTA_CH','NU_NOTA_LC','NU_NOTA_REDACAO']"
      ],
      "execution_count": 0,
      "outputs": []
    },
    {
      "cell_type": "code",
      "metadata": {
        "id": "DIJVj9m0uSKT",
        "colab_type": "code",
        "outputId": "d27c7a98-eb5f-40f4-898b-cbf6a57d635e",
        "colab": {
          "base_uri": "https://localhost:8080/",
          "height": 687
        }
      },
      "source": [
        "# Correlação das notas de provas\n",
        "%matplotlib inline\n",
        "\n",
        "plt.figure (figsize=(10,10))\n",
        "sns.heatmap(df_test[features].corr(), annot=True, linewidths=0.5, linecolor='black', cmap='Blues')\n",
        "plt.xticks(rotation=90)\n",
        "plt.show()"
      ],
      "execution_count": 136,
      "outputs": [
        {
          "output_type": "display_data",
          "data": {
            "image/png": "[encoded data removed]",
            "text/plain": [
              "<Figure size 720x720 with 2 Axes>"
            ]
          },
          "metadata": {
            "tags": [],
            "needs_background": "light"
          }
        }
      ]
    },
    {
      "cell_type": "code",
      "metadata": {
        "id": "7EmmIF7Mv6H-",
        "colab_type": "code",
        "colab": {}
      },
      "source": [
        "# Usando o loc com uma condição composta para obter somente registros com todas as provas\n",
        "df_train = df_train.loc[(df_train['NU_NOTA_CN'].notnull()) & (df_train['NU_NOTA_CH'].notnull())  & (df_train['NU_NOTA_LC'].notnull()) & (df_train['NU_NOTA_REDACAO'].notnull()) & (df_train['NU_NOTA_MT'].notnull())]"
      ],
      "execution_count": 0,
      "outputs": []
    },
    {
      "cell_type": "code",
      "metadata": {
        "id": "q36RDBFCwHom",
        "colab_type": "code",
        "outputId": "5244b789-9dc5-4863-d6ae-8eefb0438b4a",
        "colab": {
          "base_uri": "https://localhost:8080/",
          "height": 109
        }
      },
      "source": [
        "# Contabilização de notas de provas vazias\n",
        "df_test[features].isnull().sum()"
      ],
      "execution_count": 138,
      "outputs": [
        {
          "output_type": "execute_result",
          "data": {
            "text/plain": [
              "NU_NOTA_CN         1134\n",
              "NU_NOTA_CH         1134\n",
              "NU_NOTA_LC         1199\n",
              "NU_NOTA_REDACAO    1199\n",
              "dtype: int64"
            ]
          },
          "metadata": {
            "tags": []
          },
          "execution_count": 138
        }
      ]
    },
    {
      "cell_type": "code",
      "metadata": {
        "id": "xhIXYjva8JvN",
        "colab_type": "code",
        "colab": {}
      },
      "source": [
        "# Selecionando somente valores diferentes de 0 e não nulos na base de test\n",
        "df_test = df_test.loc[\n",
        "      (df_test['NU_NOTA_CN'].notnull())  & (df_test['NU_NOTA_CN'] != 0) & (df_test['NU_NOTA_CH'].notnull())      & (df_test['NU_NOTA_CH'] != 0) \n",
        "    & (df_test['NU_NOTA_LC'].notnull())  & (df_test['NU_NOTA_LC'] != 0) & (df_test['NU_NOTA_REDACAO'].notnull()) & (df_test['NU_NOTA_REDACAO'] != 0)    \n",
        "]"
      ],
      "execution_count": 0,
      "outputs": []
    },
    {
      "cell_type": "code",
      "metadata": {
        "id": "O8Dws46n8VHD",
        "colab_type": "code",
        "outputId": "41155430-9416-4ffc-c529-c34af2e14db7",
        "colab": {
          "base_uri": "https://localhost:8080/",
          "height": 109
        }
      },
      "source": [
        "# Verificando a quantidade de notas ‘nulls’ na base de test\n",
        "df_test[features].isnull().sum()"
      ],
      "execution_count": 140,
      "outputs": [
        {
          "output_type": "execute_result",
          "data": {
            "text/plain": [
              "NU_NOTA_CN         0\n",
              "NU_NOTA_CH         0\n",
              "NU_NOTA_LC         0\n",
              "NU_NOTA_REDACAO    0\n",
              "dtype: int64"
            ]
          },
          "metadata": {
            "tags": []
          },
          "execution_count": 140
        }
      ]
    },
    {
      "cell_type": "code",
      "metadata": {
        "id": "mJrFCU7xwvHP",
        "colab_type": "code",
        "colab": {}
      },
      "source": [
        "# Preencher valores nulos com o valor médio - Tratamento das notas de provas corrompidas\n",
        "df_train['NU_NOTA_CN'].fillna(df_train['NU_NOTA_CN'].mean(), inplace=True)\n",
        "df_train['NU_NOTA_CH'].fillna(df_train['NU_NOTA_CH'].mean(), inplace=True)\n",
        "df_train['NU_NOTA_REDACAO'].fillna(df_train['NU_NOTA_REDACAO'].mean(), inplace=True)\n",
        "df_train['NU_NOTA_LC'].fillna(df_train['NU_NOTA_LC'].mean(), inplace=True)\n",
        "df_test['NU_NOTA_CN'].fillna(df_train['NU_NOTA_CN'].mean(), inplace=True)\n",
        "df_test['NU_NOTA_CH'].fillna(df_train['NU_NOTA_CH'].mean(), inplace=True)\n",
        "df_test['NU_NOTA_REDACAO'].fillna(df_train['NU_NOTA_REDACAO'].mean(), inplace=True)\n",
        "df_test['NU_NOTA_LC'].fillna(df_train['NU_NOTA_LC'].mean(), inplace=True)"
      ],
      "execution_count": 0,
      "outputs": []
    },
    {
      "cell_type": "markdown",
      "metadata": {
        "id": "FX-3C7e6xEpq",
        "colab_type": "text"
      },
      "source": [
        "Separação dos dados de treino (features) e da classe"
      ]
    },
    {
      "cell_type": "code",
      "metadata": {
        "id": "ijP_DFJjwzZ_",
        "colab_type": "code",
        "colab": {}
      },
      "source": [
        "# Classe\n",
        "y = df_train['NU_NOTA_MT']"
      ],
      "execution_count": 0,
      "outputs": []
    },
    {
      "cell_type": "code",
      "metadata": {
        "id": "SoasKyUvxVtb",
        "colab_type": "code",
        "colab": {}
      },
      "source": [
        "# Definição do dataset de treino somente com as informações relevantes para treinar o modelo\n",
        "features = ['NU_NOTA_CN','NU_NOTA_CH','NU_NOTA_LC','NU_NOTA_REDACAO']\n",
        "x_train = df_train[features]"
      ],
      "execution_count": 0,
      "outputs": []
    },
    {
      "cell_type": "code",
      "metadata": {
        "id": "-MGknr-5xdvp",
        "colab_type": "code",
        "colab": {}
      },
      "source": [
        "# Ajustando o Transformer API\n",
        "scaler = preprocessing.StandardScaler().fit(x_train)"
      ],
      "execution_count": 0,
      "outputs": []
    },
    {
      "cell_type": "code",
      "metadata": {
        "id": "610rapGPyJwg",
        "colab_type": "code",
        "outputId": "d1a64beb-6e0b-412d-84ff-893cf0f2d572",
        "colab": {
          "base_uri": "https://localhost:8080/",
          "height": 72
        }
      },
      "source": [
        "X_train_scaled = scaler.transform(x_train)\n",
        "print('Media: {}'.format(X_train_scaled.mean(axis=1)))\n",
        "print('Desvio Padrão: {}'.format(X_train_scaled.std(axis=0)))"
      ],
      "execution_count": 145,
      "outputs": [
        {
          "output_type": "stream",
          "text": [
            "Media: [-0.07054803  0.41283374 -0.20305777 ...  0.23783549  0.1553501\n",
            "  0.3331491 ]\n",
            "Desvio Padrão: [1. 1. 1. 1.]\n"
          ],
          "name": "stdout"
        }
      ]
    },
    {
      "cell_type": "code",
      "metadata": {
        "id": "EMZ0j6_mySQ_",
        "colab_type": "code",
        "colab": {}
      },
      "source": [
        "x_test = df_test[features]"
      ],
      "execution_count": 0,
      "outputs": []
    },
    {
      "cell_type": "code",
      "metadata": {
        "id": "5xw2F4euyW_o",
        "colab_type": "code",
        "colab": {}
      },
      "source": [
        "#n_estimators=100 (número de nós) , n_jobs=-1 ( todo o processamento possível) , warm_start=True (mantém o aprendizado e reprocessa o modelo, melhorando-o)\n",
        "pipeline = make_pipeline(preprocessing.StandardScaler(), RandomForestRegressor(n_estimators=200, n_jobs=-1, warm_start=True))"
      ],
      "execution_count": 0,
      "outputs": []
    },
    {
      "cell_type": "code",
      "metadata": {
        "id": "lBasrio_ycb3",
        "colab_type": "code",
        "colab": {}
      },
      "source": [
        "# max_features : O número de features a considerar quando pesquisar pela melhor separação (testará as 3 opções e identificará a melhor para o modelo)\n",
        "# max_depth :  Profundidade máxima da árvore de decisão. Se None (nenhuma), os nós serão expandidos até acabar as folhas ou até que elas contenham o mínimo valor de amostras possível.\n",
        "hyperparameters = { 'randomforestregressor__max_features' : ['auto', 'sqrt', 'log2'],\n",
        "                  'randomforestregressor__max_depth': [None, 5, 3, 1]}"
      ],
      "execution_count": 0,
      "outputs": []
    },
    {
      "cell_type": "code",
      "metadata": {
        "id": "-NowimXUyu92",
        "colab_type": "code",
        "outputId": "2b61bbb0-f66a-4362-b776-8d3dca0dd493",
        "colab": {
          "base_uri": "https://localhost:8080/",
          "height": 568
        }
      },
      "source": [
        "# Ajustar e sintonizar o modelo\n",
        "clf = GridSearchCV(pipeline, hyperparameters, cv=10)\n",
        "clf.fit(X_train_scaled, y)"
      ],
      "execution_count": 149,
      "outputs": [
        {
          "output_type": "execute_result",
          "data": {
            "text/plain": [
              "GridSearchCV(cv=10, error_score=nan,\n",
              "             estimator=Pipeline(memory=None,\n",
              "                                steps=[('standardscaler',\n",
              "                                        StandardScaler(copy=True,\n",
              "                                                       with_mean=True,\n",
              "                                                       with_std=True)),\n",
              "                                       ('randomforestregressor',\n",
              "                                        RandomForestRegressor(bootstrap=True,\n",
              "                                                              ccp_alpha=0.0,\n",
              "                                                              criterion='mse',\n",
              "                                                              max_depth=None,\n",
              "                                                              max_features='auto',\n",
              "                                                              max_leaf_nodes=None,\n",
              "                                                              max_samples=None,\n",
              "                                                              min_impurity_decrease=0.0,\n",
              "                                                              min_impurity_...\n",
              "                                                              min_weight_fraction_leaf=0.0,\n",
              "                                                              n_estimators=200,\n",
              "                                                              n_jobs=-1,\n",
              "                                                              oob_score=False,\n",
              "                                                              random_state=None,\n",
              "                                                              verbose=0,\n",
              "                                                              warm_start=True))],\n",
              "                                verbose=False),\n",
              "             iid='deprecated', n_jobs=None,\n",
              "             param_grid={'randomforestregressor__max_depth': [None, 5, 3, 1],\n",
              "                         'randomforestregressor__max_features': ['auto', 'sqrt',\n",
              "                                                                 'log2']},\n",
              "             pre_dispatch='2*n_jobs', refit=True, return_train_score=False,\n",
              "             scoring=None, verbose=0)"
            ]
          },
          "metadata": {
            "tags": []
          },
          "execution_count": 149
        }
      ]
    },
    {
      "cell_type": "code",
      "metadata": {
        "id": "sQAMoKCHz4YO",
        "colab_type": "code",
        "outputId": "6da7c7c4-fdb6-49c7-ba0e-18076bf85db2",
        "colab": {
          "base_uri": "https://localhost:8080/",
          "height": 35
        }
      },
      "source": [
        "print(clf.best_params_)"
      ],
      "execution_count": 150,
      "outputs": [
        {
          "output_type": "stream",
          "text": [
            "{'randomforestregressor__max_depth': 5, 'randomforestregressor__max_features': 'sqrt'}\n"
          ],
          "name": "stdout"
        }
      ]
    },
    {
      "cell_type": "code",
      "metadata": {
        "id": "oHk119Sb0QgK",
        "colab_type": "code",
        "colab": {}
      },
      "source": [
        "pred_notas = clf.predict(x_test)"
      ],
      "execution_count": 0,
      "outputs": []
    },
    {
      "cell_type": "code",
      "metadata": {
        "id": "f_IR7oqS0XvH",
        "colab_type": "code",
        "colab": {}
      },
      "source": [
        "df_resposta['NU_NOTA_MT'] = np.around(pred_notas,2)"
      ],
      "execution_count": 0,
      "outputs": []
    },
    {
      "cell_type": "code",
      "metadata": {
        "id": "fJkbh0VX0nSp",
        "colab_type": "code",
        "colab": {}
      },
      "source": [
        "# Exemplos de notas estimados\n",
        "df_resposta['NU_NOTA_MT'].unique()"
      ],
      "execution_count": 0,
      "outputs": []
    },
    {
      "cell_type": "code",
      "metadata": {
        "id": "o43hkJw30vtq",
        "colab_type": "code",
        "colab": {}
      },
      "source": [
        "df_resposta.to_csv('answer.csv', index=False, header=True)"
      ],
      "execution_count": 0,
      "outputs": []
    },
    {
      "cell_type": "code",
      "metadata": {
        "id": "VjYofHCV03JA",
        "colab_type": "code",
        "outputId": "973cea90-07eb-4205-8b57-159ecb926b32",
        "colab": {
          "base_uri": "https://localhost:8080/",
          "height": 54
        }
      },
      "source": [
        "# Salvar o modelo preditivo\n",
        "joblib.dump(clf, 'rf_regressor.pkl')\n",
        "\n",
        "# Usar/carregar o modelo preditivo\n",
        "clf2 = joblib.load('rf_regressor.pkl')\n",
        "clf2.predict(x_test)"
      ],
      "execution_count": 157,
      "outputs": [
        {
          "output_type": "execute_result",
          "data": {
            "text/plain": [
              "array([817.30692742, 817.30692742, 817.30692742, ..., 817.30692742,\n",
              "       817.30692742, 817.30692742])"
            ]
          },
          "metadata": {
            "tags": []
          },
          "execution_count": 157
        }
      ]
    }
  ]
}